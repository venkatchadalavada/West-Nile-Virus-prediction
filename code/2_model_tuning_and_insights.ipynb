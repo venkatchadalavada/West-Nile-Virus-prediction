{
 "cells": [
  {
   "cell_type": "markdown",
   "metadata": {},
   "source": [
    " West Nile Virus Classification\n",
    "\n",
    "Project notebook organisation:<br>\n",
    "[1 - Exploratory Data Analysis and Feature Engineering](./1_eda_and_feature_engineering.ipynb)<br>\n",
    "**2 - Model Tuning and Insights** (current notebook)<br>\n",
    "<br>\n",
    "<br>"
   ]
  },
  {
   "cell_type": "markdown",
   "metadata": {
    "toc": true
   },
   "source": [
    "<h1>Table of Contents<span class=\"tocSkip\"></span></h1>\n",
    "<div class=\"toc\"><ul class=\"toc-item\"><li><span><a href=\"#Project-4:-West-Nile-Virus-Classification\" data-toc-modified-id=\"Project-4:-West-Nile-Virus-Classification-1\"><span class=\"toc-item-num\">1&nbsp;&nbsp;</span>Project 4: West Nile Virus Classification</a></span></li><li><span><a href=\"#Preparing-Data\" data-toc-modified-id=\"Preparing-Data-2\"><span class=\"toc-item-num\">2&nbsp;&nbsp;</span>Preparing Data</a></span><ul class=\"toc-item\"><li><span><a href=\"#Cleaning-up-data\" data-toc-modified-id=\"Cleaning-up-data-2.1\"><span class=\"toc-item-num\">2.1&nbsp;&nbsp;</span>Cleaning up data</a></span></li><li><span><a href=\"#Populating-dictionary-of-variables\" data-toc-modified-id=\"Populating-dictionary-of-variables-2.2\"><span class=\"toc-item-num\">2.2&nbsp;&nbsp;</span>Populating dictionary of variables</a></span></li></ul></li><li><span><a href=\"#Functions-and-Dictionaries-for-modelling\" data-toc-modified-id=\"Functions-and-Dictionaries-for-modelling-3\"><span class=\"toc-item-num\">3&nbsp;&nbsp;</span>Functions and Dictionaries for modelling</a></span></li><li><span><a href=\"#Baseline-models-with-no-parameter-tuning\" data-toc-modified-id=\"Baseline-models-with-no-parameter-tuning-4\"><span class=\"toc-item-num\">4&nbsp;&nbsp;</span>Baseline models with no parameter-tuning</a></span></li><li><span><a href=\"#GridSearching-for-parameter-tuning\" data-toc-modified-id=\"GridSearching-for-parameter-tuning-5\"><span class=\"toc-item-num\">5&nbsp;&nbsp;</span>GridSearching for parameter tuning</a></span></li><li><span><a href=\"#Evaluating-our-models\" data-toc-modified-id=\"Evaluating-our-models-6\"><span class=\"toc-item-num\">6&nbsp;&nbsp;</span>Evaluating our models</a></span></li><li><span><a href=\"#Cost-Benefit-Analysis\" data-toc-modified-id=\"Cost-Benefit-Analysis-7\"><span class=\"toc-item-num\">7&nbsp;&nbsp;</span>Cost-Benefit Analysis</a></span><ul class=\"toc-item\"><li><span><a href=\"#Cost\" data-toc-modified-id=\"Cost-7.1\"><span class=\"toc-item-num\">7.1&nbsp;&nbsp;</span>Cost</a></span></li><li><span><a href=\"#Benefit\" data-toc-modified-id=\"Benefit-7.2\"><span class=\"toc-item-num\">7.2&nbsp;&nbsp;</span>Benefit</a></span></li><li><span><a href=\"#Effectiveness-of-spraying-efforts-thus-far\" data-toc-modified-id=\"Effectiveness-of-spraying-efforts-thus-far-7.3\"><span class=\"toc-item-num\">7.3&nbsp;&nbsp;</span>Effectiveness of spraying efforts thus far</a></span></li><li><span><a href=\"#Conclusions\" data-toc-modified-id=\"Conclusions-7.4\"><span class=\"toc-item-num\">7.4&nbsp;&nbsp;</span>Conclusions</a></span></li></ul></li><li><span><a href=\"#Conclusion-and-Recommendations\" data-toc-modified-id=\"Conclusion-and-Recommendations-8\"><span class=\"toc-item-num\">8&nbsp;&nbsp;</span>Conclusion and Recommendations</a></span></li></ul></div>"
   ]
  },
  {
   "cell_type": "code",
   "execution_count": 1,
   "metadata": {
    "ExecuteTime": {
     "end_time": "2019-11-08T01:28:07.920492Z",
     "start_time": "2019-11-08T01:27:59.994904Z"
    }
   },
   "outputs": [
    {
     "name": "stderr",
     "output_type": "stream",
     "text": [
      "Using TensorFlow backend.\n"
     ]
    }
   ],
   "source": [
    "# importing essential libraries for data cleaning and EDA\n",
    "import numpy as np\n",
    "import pandas as pd\n",
    "\n",
    "# for handling date time\n",
    "import datetime as dt\n",
    "\n",
    "# stats and other libraries\n",
    "import scipy.stats as stats\n",
    "\n",
    "# plotting libraries\n",
    "import matplotlib.pyplot as plt\n",
    "from matplotlib.ticker import (MultipleLocator, FormatStrFormatter,\n",
    "                               AutoMinorLocator)\n",
    "\n",
    "import seaborn as sns\n",
    "%matplotlib inline\n",
    "sns.set(style=\"whitegrid\")\n",
    "\n",
    "# for handling geographic data\n",
    "\n",
    "# modeling libraries\n",
    "from sklearn.pipeline import Pipeline, FeatureUnion\n",
    "\n",
    "from sklearn.preprocessing import FunctionTransformer, StandardScaler, RobustScaler\n",
    "from sklearn.linear_model import LogisticRegression\n",
    "from sklearn.neighbors import KNeighborsClassifier\n",
    "from sklearn.tree import DecisionTreeClassifier\n",
    "from sklearn.naive_bayes import MultinomialNB\n",
    "from sklearn.ensemble import RandomForestClassifier, ExtraTreesClassifier, VotingClassifier\n",
    "from sklearn import svm\n",
    "\n",
    "from sklearn.model_selection import train_test_split, GridSearchCV, KFold, cross_val_score, cross_val_predict\n",
    "from sklearn.metrics import confusion_matrix, roc_auc_score\n",
    "\n",
    "\n",
    "import xgboost as xgb\n",
    "from xgboost import XGBClassifier\n",
    "\n",
    "import seaborn as sns\n",
    "import scipy.stats as stats\n",
    "import string\n",
    "import warnings\n",
    "warnings.filterwarnings('ignore')\n",
    "\n",
    "import featuretools as ft\n",
    "import imblearn\n",
    "from imblearn.under_sampling import RandomUnderSampler\n",
    "from imblearn.over_sampling import SMOTE\n",
    "\n",
    "\n",
    "\n",
    "sns.set_style('ticks')\n",
    "pd.set_option('display.max_columns', None)\n",
    "\n",
    "%matplotlib inline\n"
   ]
  },
  {
   "cell_type": "markdown",
   "metadata": {},
   "source": [
    "# Preparing Data"
   ]
  },
  {
   "cell_type": "code",
   "execution_count": 2,
   "metadata": {
    "ExecuteTime": {
     "end_time": "2019-11-08T01:28:31.820999Z",
     "start_time": "2019-11-08T01:28:31.431035Z"
    }
   },
   "outputs": [],
   "source": [
    "# reading pickle of processed data sets from 1_combined_eda\n",
    "\n",
    "df_processed = pd.read_pickle('assets/processed.zip')\n",
    "df_dict = df_processed.to_dict()\n"
   ]
  },
  {
   "cell_type": "markdown",
   "metadata": {},
   "source": [
    "## Cleaning up data"
   ]
  },
  {
   "cell_type": "code",
   "execution_count": 3,
   "metadata": {
    "ExecuteTime": {
     "end_time": "2019-11-08T01:28:35.841860Z",
     "start_time": "2019-11-08T01:28:35.717318Z"
    }
   },
   "outputs": [],
   "source": [
    "# dropping dummy variable of UNSPECIFIED CULEX from both data sets as we will be using it as the control set\n",
    "# dropping WnvPresent for test data set (this was added in when we processed train and test set, as we\n",
    "# aligned it to ensure that train and test sets have the same columns for other dummy variables)\n",
    "\n",
    "\n",
    "for i in df_dict.keys():\n",
    "    df_dict[i]['train'] = df_dict[i]['train'].drop(columns = 'Species_UNSPECIFIED CULEX')\n",
    "    df_dict[i]['test'] = df_dict[i]['test'].drop(columns = ['Species_UNSPECIFIED CULEX', 'WnvPresent'])"
   ]
  },
  {
   "cell_type": "markdown",
   "metadata": {},
   "source": [
    "## Populating dictionary of variables"
   ]
  },
  {
   "cell_type": "code",
   "execution_count": 4,
   "metadata": {
    "ExecuteTime": {
     "end_time": "2019-11-08T01:28:36.822960Z",
     "start_time": "2019-11-08T01:28:36.818790Z"
    }
   },
   "outputs": [],
   "source": [
    "# defining empty dictionaries to hold validation sets\n",
    "\n",
    "X_train = {}\n",
    "X_test = {}\n",
    "y_train = {}\n",
    "y_test = {}\n",
    "X_all = {}\n",
    "y_all = {}\n",
    "test_all = {}"
   ]
  },
  {
   "cell_type": "code",
   "execution_count": 5,
   "metadata": {
    "ExecuteTime": {
     "end_time": "2019-11-08T01:28:37.834291Z",
     "start_time": "2019-11-08T01:28:37.763810Z"
    }
   },
   "outputs": [],
   "source": [
    "# for loop to populate dictionaries of X and Y training and test sets\n",
    "\n",
    "for i in df_dict.keys():\n",
    "    X_train[i], X_test[i], y_train[i], y_test[i] = \\\n",
    "    train_test_split(df_dict[i]['train'].drop(columns = 'WnvPresent'), df_dict[i]['train']['WnvPresent'], \\\n",
    "                     test_size = 0.25, stratify = df_dict[i]['train']['WnvPresent'], random_state = 42)\n",
    "    X_all[i] = df_dict[i]['train'].drop(columns = 'WnvPresent')\n",
    "    y_all[i] = df_dict[i]['train']['WnvPresent']\n",
    "    test_all[i] = df_dict[i]['test']\n",
    "\n"
   ]
  },
  {
   "cell_type": "markdown",
   "metadata": {},
   "source": [
    "# Functions and Dictionaries for modelling"
   ]
  },
  {
   "cell_type": "code",
   "execution_count": 6,
   "metadata": {
    "ExecuteTime": {
     "end_time": "2019-11-08T01:28:39.109649Z",
     "start_time": "2019-11-08T01:28:39.092736Z"
    }
   },
   "outputs": [],
   "source": [
    "# Defining dictionary of pipeline transformers and classifiers\n",
    "\n",
    "pipe_dict = {'ss' : ('ss', StandardScaler()),\n",
    "             'lr' : ('lr', LogisticRegression()),\n",
    "             'knn' : ('knn', KNeighborsClassifier()),\n",
    "             'dt' : ('dt', DecisionTreeClassifier()),\n",
    "             'rf' : ('rf', RandomForestClassifier()),\n",
    "             'et' : ('et', ExtraTreesClassifier()),\n",
    "             'xgc' : ('xgc', xgb.XGBClassifier()),\n",
    "            }\n",
    "\n",
    "\n",
    "# Defining dictionary of parameters for pipeline transformers\n",
    "\n",
    "param_dict = {'lr_params' : {'lr__penalty' : ['l1', 'l2'],\n",
    "                             'lr__solver' : ['liblinear'],\n",
    "                             'lr__C' : np.logspace(-5, 0, 5),\n",
    "                             'lr__class_weight' : ['balanced']\n",
    "                            }, \\\n",
    "              'dt_params' : {'dt__max_depth': [2, 3, 5, 7, 10],\n",
    "                             'dt__min_samples_split': [5, 10, 15, 20],\n",
    "                             'dt__min_samples_leaf': [2, 3, 4, 5, 6, 7],\n",
    "                             'dt__class_weight' : ['balanced'],\n",
    "                            }, \\\n",
    "              'rf_params' : {'rf__n_estimators': [10, 20, 50, 100, 150, 200],\n",
    "                             'rf__max_depth': [5, 10, 15, 20, 25],\n",
    "                             'rf__min_samples_leaf': [2, 5, 10],\n",
    "                             'rf__class_weight' : ['balanced', 'balanced_subsample']\n",
    "                            }, \\\n",
    "              'et_params' : {'et__n_estimators': [10, 20, 50, 100, 150, 200],\n",
    "                             'et__max_depth': [2, 3, 4, 5, 10, 20],\n",
    "                             'et__min_samples_leaf': [2, 5, 10],\n",
    "                             'et__class_weight' : ['balanced', 'balanced_subsample'],\n",
    "                            }, \\\n",
    "\n",
    "              'xgc_params' : {'xgc__eval_metric' : ['auc'],\n",
    "                              'xgc__subsample' : [0.5], \n",
    "                              'xgc__colsample_bytree' : [0.5], \n",
    "                              'xgc__learning_rate' : [0.1],\n",
    "                              'xgc__max_depth' : [3], \n",
    "                              'xgc__scale_pos_weight': [19], # ratio of neg instances/pos instances\n",
    "                              'xgc__n_estimators' : [500],\n",
    "                              'xgc__reg_alpha' : [0, 1, 1.5],\n",
    "                              'xgc__reg_lambda' : [1, 2, 5],\n",
    "                              'xgc__gamma' : [0.01, 0.1, 3],\n",
    "                             },\\\n",
    "              \n",
    "             }\n",
    "\n",
    "param_no_tuning = {'lr_params' : {'lr__class_weight' : ['balanced']\n",
    "                                 }, \\\n",
    "                   'dt_params' : {'dt__class_weight' : ['balanced']\n",
    "                                 }, \\\n",
    "                   'rf_params' : {'rf__class_weight' : ['balanced', 'balanced_subsample']\n",
    "                                  }, \\\n",
    "                   'et_params' : {'et__class_weight' : ['balanced', 'balanced_subsample'],\n",
    "                                 }, \\\n",
    "                    'xgc_params' : {'xgc__scale_pos_weight' : [19],\n",
    "                                    'xgc__seed' : [42],\n",
    "                                    'xgc__eval_metric' : ['auc'],\n",
    "                                    'xgc__objective' : ['binary:logistic'],\n",
    "                                   }\n",
    "                  }\n",
    "\n",
    "\n",
    "\n",
    "\n",
    "\n",
    "# Defining dictionary of more descriptive names for pipeline transformers and classifiers\n",
    "\n",
    "pipe_dict_names = {'ss' : 'Standard Scaler',\n",
    "                   'lr' : 'Logistic Regression',\n",
    "                   'dt' : 'Decision Tree',\n",
    "                   'et' : 'Extra Trees',\n",
    "                   'rf' : 'Random Forest',\n",
    "                   'xgc' : 'XGBoost',\n",
    "                  }\n"
   ]
  },
  {
   "cell_type": "code",
   "execution_count": 7,
   "metadata": {
    "ExecuteTime": {
     "end_time": "2019-11-08T01:28:40.153203Z",
     "start_time": "2019-11-08T01:28:40.131924Z"
    }
   },
   "outputs": [],
   "source": [
    "# Defining function to run pipeline model for each set of X stored in X_dict above and populate model_dict with model \\\n",
    "# parameters and results\n",
    "\n",
    "def model_making(X_dict, scaler, classifier, model_dict, param_dict):\n",
    "    for i in df_dict.keys():\n",
    "        # Defining model_name to be used as key for model_dict\n",
    "        model_name = '_'.join([classifier, str(i)])\n",
    "        \n",
    "        # Initialising empty dictionary (within the model_dict dictionary) to store instanced model parameters and results\n",
    "        model_dict[model_name] = {}\n",
    "        \n",
    "        if scaler == None:\n",
    "            model_dict[model_name]['name'] = ' '.join([pipe_dict_names[classifier], df_dict[i]['name']])\n",
    "            model_dict[model_name]['pipe'] = Pipeline([pipe_dict[classifier]])\n",
    "        else:\n",
    "            model_dict[model_name]['name'] = ' '.join([pipe_dict_names[classifier], df_dict[i]['name'], pipe_dict_names[scaler]])\n",
    "            model_dict[model_name]['pipe'] = Pipeline([pipe_dict[scaler], pipe_dict[classifier]])            \n",
    "        \n",
    "        \n",
    "        model_dict[model_name]['params'] = param_dict[classifier + '_params'].copy()\n",
    "\n",
    "        \n",
    "        # Defining vectoriser parameter grid for model instance\n",
    "\n",
    "        # Defining model for GridSearchCV using above pipeline and parameters\n",
    "        model_dict[model_name]['model'] = GridSearchCV(model_dict[model_name]['pipe'], \\\n",
    "                                                       param_grid = model_dict[model_name]['params'],\n",
    "                                                       cv = 3,\n",
    "                                                       verbose = 1,\n",
    "                                                       scoring = 'roc_auc',\n",
    "                                                       n_jobs = 4)\n",
    "\n",
    "        # Fitting model for GridSearchCV\n",
    "        model_dict[model_name]['model'].fit(X_train[i], y_train[i])\n",
    "        \n",
    "        # Storing cross-validation scores and best parameters for model instance\n",
    "        model_dict[model_name]['cv_train_score'] = model_dict[model_name]['model'].best_score_ \n",
    "        model_dict[model_name]['cv_best_params'] = model_dict[model_name]['model'].best_params_\n",
    "        model_dict[model_name]['cv_test_pred_proba'] = [i[1] for i in model_dict[model_name]['model'].best_estimator_.predict_proba(X_test[i])]\n",
    "        model_dict[model_name]['cv_test_pred'] = model_dict[model_name]['model'].best_estimator_.predict(X_test[i])\n",
    "        model_dict[model_name]['cv_test_score'] = roc_auc_score(y_test[i], model_dict[model_name]['cv_test_pred_proba'])\n",
    "        model_dict[model_name]['cv_confusion_matrix'] = pd.DataFrame(confusion_matrix(y_test[i], \\\n",
    "                                                                                      model_dict[model_name]['cv_test_pred']), \\\n",
    "                                                                     index = ['Actual WNV absent','Actual WNV present'],\n",
    "                                                                     columns = ['Predicted WNV absent', 'Predicted WNV present'])\n",
    "        model_dict[model_name]['cv_test_pred_df'] = pd.DataFrame({'True_Values' : y_test[i],\n",
    "                                                                  'Pred_Probs' : model_dict[model_name]['cv_test_pred_proba']})\n",
    "\n",
    "        # Storing predict_probability from best scoring model instance\n",
    "        model_dict[model_name]['best_model'] = model_dict[model_name]['model'].best_estimator_.fit(X_all[i], y_all[i])\n",
    "#        model_dict[model_name]['cv_test_pred_proba'] = [i[1] for i in model_dict[model_name]['best_model'].predict_proba(X_all[i])]\n",
    "\n",
    "        model_dict[model_name]['test_pred_proba'] = [i[1] for i in model_dict[model_name]['best_model'].predict_proba(test_all[i])]\n",
    "\n",
    "\n",
    "            \n",
    "        # Printing scores and best parameters for model instance\n",
    "        print(model_dict[model_name]['name'], '\\n')\n",
    "        print(f'Score on Train Set:', model_dict[model_name]['cv_train_score'])\n",
    "        print(f'Best Parameters:', model_dict[model_name]['cv_best_params'])\n",
    "        print(f'Score on Test Set:', model_dict[model_name]['cv_test_score'])\n",
    "        print(model_dict[model_name]['cv_confusion_matrix'], f'\\n\\n')\n",
    "        "
   ]
  },
  {
   "cell_type": "markdown",
   "metadata": {},
   "source": [
    "# Baseline models with no parameter-tuning"
   ]
  },
  {
   "cell_type": "code",
   "execution_count": 8,
   "metadata": {},
   "outputs": [],
   "source": [
    "# defining empty dictionary to see how each model does without tuning\n",
    "\n",
    "model_no_tuning = {}"
   ]
  },
  {
   "cell_type": "code",
   "execution_count": 9,
   "metadata": {
    "scrolled": true
   },
   "outputs": [
    {
     "name": "stdout",
     "output_type": "stream",
     "text": [
      "Fitting 3 folds for each of 1 candidates, totalling 3 fits\n"
     ]
    },
    {
     "name": "stderr",
     "output_type": "stream",
     "text": [
      "[Parallel(n_jobs=4)]: Using backend LokyBackend with 4 concurrent workers.\n",
      "[Parallel(n_jobs=4)]: Done   3 out of   3 | elapsed:    6.6s finished\n"
     ]
    },
    {
     "name": "stdout",
     "output_type": "stream",
     "text": [
      "Logistic Regression Rolling 10 days Standard Scaler \n",
      "\n",
      "Score on Train Set: 0.7815648092351074\n",
      "Best Parameters: {'lr__class_weight': 'balanced'}\n",
      "Score on Test Set: 0.7824951525844148\n",
      "                    Predicted WNV absent  Predicted WNV present\n",
      "Actual WNV absent                   1735                    754\n",
      "Actual WNV present                    37                    101 \n",
      "\n",
      "\n",
      "Fitting 3 folds for each of 1 candidates, totalling 3 fits\n"
     ]
    },
    {
     "name": "stderr",
     "output_type": "stream",
     "text": [
      "[Parallel(n_jobs=4)]: Using backend LokyBackend with 4 concurrent workers.\n",
      "[Parallel(n_jobs=4)]: Done   3 out of   3 | elapsed:    2.0s finished\n"
     ]
    },
    {
     "name": "stdout",
     "output_type": "stream",
     "text": [
      "Logistic Regression Rolling 14 days Standard Scaler \n",
      "\n",
      "Score on Train Set: 0.7782470533076218\n",
      "Best Parameters: {'lr__class_weight': 'balanced'}\n",
      "Score on Test Set: 0.7834471675371636\n",
      "                    Predicted WNV absent  Predicted WNV present\n",
      "Actual WNV absent                   1713                    776\n",
      "Actual WNV present                    36                    102 \n",
      "\n",
      "\n",
      "Fitting 3 folds for each of 1 candidates, totalling 3 fits\n"
     ]
    },
    {
     "name": "stderr",
     "output_type": "stream",
     "text": [
      "[Parallel(n_jobs=4)]: Using backend LokyBackend with 4 concurrent workers.\n",
      "[Parallel(n_jobs=4)]: Done   3 out of   3 | elapsed:    0.4s finished\n"
     ]
    },
    {
     "name": "stdout",
     "output_type": "stream",
     "text": [
      "Logistic Regression Rolling 18 days Standard Scaler \n",
      "\n",
      "Score on Train Set: 0.7838720421768847\n",
      "Best Parameters: {'lr__class_weight': 'balanced'}\n",
      "Score on Test Set: 0.789022423300202\n",
      "                    Predicted WNV absent  Predicted WNV present\n",
      "Actual WNV absent                   1744                    745\n",
      "Actual WNV present                    36                    102 \n",
      "\n",
      "\n"
     ]
    }
   ],
   "source": [
    "model_making(df_dict, 'ss', 'lr', model_no_tuning, param_no_tuning)\n"
   ]
  },
  {
   "cell_type": "code",
   "execution_count": 10,
   "metadata": {
    "scrolled": true
   },
   "outputs": [
    {
     "name": "stdout",
     "output_type": "stream",
     "text": [
      "Fitting 3 folds for each of 1 candidates, totalling 3 fits\n"
     ]
    },
    {
     "name": "stderr",
     "output_type": "stream",
     "text": [
      "[Parallel(n_jobs=4)]: Using backend LokyBackend with 4 concurrent workers.\n",
      "[Parallel(n_jobs=4)]: Done   3 out of   3 | elapsed:    0.2s finished\n"
     ]
    },
    {
     "name": "stdout",
     "output_type": "stream",
     "text": [
      "Decision Tree Rolling 10 days \n",
      "\n",
      "Score on Train Set: 0.6218234521164727\n",
      "Best Parameters: {'dt__class_weight': 'balanced'}\n",
      "Score on Test Set: 0.5919029235884267\n",
      "                    Predicted WNV absent  Predicted WNV present\n",
      "Actual WNV absent                   2272                    217\n",
      "Actual WNV present                   104                     34 \n",
      "\n",
      "\n",
      "Fitting 3 folds for each of 1 candidates, totalling 3 fits\n"
     ]
    },
    {
     "name": "stderr",
     "output_type": "stream",
     "text": [
      "[Parallel(n_jobs=4)]: Using backend LokyBackend with 4 concurrent workers.\n",
      "[Parallel(n_jobs=4)]: Done   3 out of   3 | elapsed:    0.2s finished\n"
     ]
    },
    {
     "name": "stdout",
     "output_type": "stream",
     "text": [
      "Decision Tree Rolling 14 days \n",
      "\n",
      "Score on Train Set: 0.6266020880190446\n",
      "Best Parameters: {'dt__class_weight': 'balanced'}\n",
      "Score on Test Set: 0.5923338049737686\n",
      "                    Predicted WNV absent  Predicted WNV present\n",
      "Actual WNV absent                   2289                    200\n",
      "Actual WNV present                   105                     33 \n",
      "\n",
      "\n",
      "Fitting 3 folds for each of 1 candidates, totalling 3 fits\n"
     ]
    },
    {
     "name": "stderr",
     "output_type": "stream",
     "text": [
      "[Parallel(n_jobs=4)]: Using backend LokyBackend with 4 concurrent workers.\n",
      "[Parallel(n_jobs=4)]: Done   3 out of   3 | elapsed:    0.1s finished\n"
     ]
    },
    {
     "name": "stdout",
     "output_type": "stream",
     "text": [
      "Decision Tree Rolling 18 days \n",
      "\n",
      "Score on Train Set: 0.6245276364976906\n",
      "Best Parameters: {'dt__class_weight': 'balanced'}\n",
      "Score on Test Set: 0.577983708025457\n",
      "                    Predicted WNV absent  Predicted WNV present\n",
      "Actual WNV absent                   2278                    211\n",
      "Actual WNV present                   108                     30 \n",
      "\n",
      "\n"
     ]
    }
   ],
   "source": [
    "model_making(df_dict, None, 'dt', model_no_tuning, param_no_tuning)\n"
   ]
  },
  {
   "cell_type": "code",
   "execution_count": 11,
   "metadata": {
    "scrolled": true
   },
   "outputs": [
    {
     "name": "stdout",
     "output_type": "stream",
     "text": [
      "Fitting 3 folds for each of 2 candidates, totalling 6 fits\n"
     ]
    },
    {
     "name": "stderr",
     "output_type": "stream",
     "text": [
      "[Parallel(n_jobs=4)]: Using backend LokyBackend with 4 concurrent workers.\n",
      "[Parallel(n_jobs=4)]: Done   6 out of   6 | elapsed:    4.9s remaining:    0.0s\n",
      "[Parallel(n_jobs=4)]: Done   6 out of   6 | elapsed:    4.9s finished\n"
     ]
    },
    {
     "name": "stdout",
     "output_type": "stream",
     "text": [
      "Extra Trees Rolling 10 days \n",
      "\n",
      "Score on Train Set: 0.7428702376186068\n",
      "Best Parameters: {'et__class_weight': 'balanced_subsample'}\n",
      "Score on Test Set: 0.7161394192417652\n",
      "                    Predicted WNV absent  Predicted WNV present\n",
      "Actual WNV absent                   2333                    156\n",
      "Actual WNV present                   107                     31 \n",
      "\n",
      "\n",
      "Fitting 3 folds for each of 2 candidates, totalling 6 fits\n"
     ]
    },
    {
     "name": "stderr",
     "output_type": "stream",
     "text": [
      "[Parallel(n_jobs=4)]: Using backend LokyBackend with 4 concurrent workers.\n",
      "[Parallel(n_jobs=4)]: Done   6 out of   6 | elapsed:    4.7s remaining:    0.0s\n",
      "[Parallel(n_jobs=4)]: Done   6 out of   6 | elapsed:    4.7s finished\n"
     ]
    },
    {
     "name": "stdout",
     "output_type": "stream",
     "text": [
      "Extra Trees Rolling 14 days \n",
      "\n",
      "Score on Train Set: 0.7360919064022068\n",
      "Best Parameters: {'et__class_weight': 'balanced'}\n",
      "Score on Test Set: 0.7187902131698314\n",
      "                    Predicted WNV absent  Predicted WNV present\n",
      "Actual WNV absent                   2332                    157\n",
      "Actual WNV present                   108                     30 \n",
      "\n",
      "\n",
      "Fitting 3 folds for each of 2 candidates, totalling 6 fits\n"
     ]
    },
    {
     "name": "stderr",
     "output_type": "stream",
     "text": [
      "[Parallel(n_jobs=4)]: Using backend LokyBackend with 4 concurrent workers.\n",
      "[Parallel(n_jobs=4)]: Done   6 out of   6 | elapsed:    5.3s remaining:    0.0s\n",
      "[Parallel(n_jobs=4)]: Done   6 out of   6 | elapsed:    5.3s finished\n"
     ]
    },
    {
     "name": "stdout",
     "output_type": "stream",
     "text": [
      "Extra Trees Rolling 18 days \n",
      "\n",
      "Score on Train Set: 0.7338447332920838\n",
      "Best Parameters: {'et__class_weight': 'balanced'}\n",
      "Score on Test Set: 0.7211949971177529\n",
      "                    Predicted WNV absent  Predicted WNV present\n",
      "Actual WNV absent                   2335                    154\n",
      "Actual WNV present                   109                     29 \n",
      "\n",
      "\n"
     ]
    }
   ],
   "source": [
    "model_making(df_dict, None, 'et', model_no_tuning, param_no_tuning)\n"
   ]
  },
  {
   "cell_type": "code",
   "execution_count": 12,
   "metadata": {
    "scrolled": true
   },
   "outputs": [
    {
     "name": "stdout",
     "output_type": "stream",
     "text": [
      "Fitting 3 folds for each of 2 candidates, totalling 6 fits\n"
     ]
    },
    {
     "name": "stderr",
     "output_type": "stream",
     "text": [
      "[Parallel(n_jobs=4)]: Using backend LokyBackend with 4 concurrent workers.\n",
      "[Parallel(n_jobs=4)]: Done   6 out of   6 | elapsed:    4.2s remaining:    0.0s\n",
      "[Parallel(n_jobs=4)]: Done   6 out of   6 | elapsed:    4.2s finished\n"
     ]
    },
    {
     "name": "stdout",
     "output_type": "stream",
     "text": [
      "Random Forest Rolling 10 days \n",
      "\n",
      "Score on Train Set: 0.7911997742950896\n",
      "Best Parameters: {'rf__class_weight': 'balanced'}\n",
      "Score on Test Set: 0.7579494704234865\n",
      "                    Predicted WNV absent  Predicted WNV present\n",
      "Actual WNV absent                   2367                    122\n",
      "Actual WNV present                   113                     25 \n",
      "\n",
      "\n",
      "Fitting 3 folds for each of 2 candidates, totalling 6 fits\n"
     ]
    },
    {
     "name": "stderr",
     "output_type": "stream",
     "text": [
      "[Parallel(n_jobs=4)]: Using backend LokyBackend with 4 concurrent workers.\n",
      "[Parallel(n_jobs=4)]: Done   6 out of   6 | elapsed:    4.2s remaining:    0.0s\n",
      "[Parallel(n_jobs=4)]: Done   6 out of   6 | elapsed:    4.2s finished\n"
     ]
    },
    {
     "name": "stdout",
     "output_type": "stream",
     "text": [
      "Random Forest Rolling 14 days \n",
      "\n",
      "Score on Train Set: 0.7856403525578631\n",
      "Best Parameters: {'rf__class_weight': 'balanced'}\n",
      "Score on Test Set: 0.767388101851043\n",
      "                    Predicted WNV absent  Predicted WNV present\n",
      "Actual WNV absent                   2364                    125\n",
      "Actual WNV present                   111                     27 \n",
      "\n",
      "\n",
      "Fitting 3 folds for each of 2 candidates, totalling 6 fits\n"
     ]
    },
    {
     "name": "stderr",
     "output_type": "stream",
     "text": [
      "[Parallel(n_jobs=4)]: Using backend LokyBackend with 4 concurrent workers.\n",
      "[Parallel(n_jobs=4)]: Done   6 out of   6 | elapsed:    4.5s remaining:    0.0s\n",
      "[Parallel(n_jobs=4)]: Done   6 out of   6 | elapsed:    4.5s finished\n"
     ]
    },
    {
     "name": "stdout",
     "output_type": "stream",
     "text": [
      "Random Forest Rolling 18 days \n",
      "\n",
      "Score on Train Set: 0.7851610850711476\n",
      "Best Parameters: {'rf__class_weight': 'balanced'}\n",
      "Score on Test Set: 0.769021375210346\n",
      "                    Predicted WNV absent  Predicted WNV present\n",
      "Actual WNV absent                   2363                    126\n",
      "Actual WNV present                   111                     27 \n",
      "\n",
      "\n"
     ]
    }
   ],
   "source": [
    "model_making(df_dict, None, 'rf', model_no_tuning, param_no_tuning)\n"
   ]
  },
  {
   "cell_type": "code",
   "execution_count": 13,
   "metadata": {
    "scrolled": false
   },
   "outputs": [
    {
     "name": "stdout",
     "output_type": "stream",
     "text": [
      "Fitting 3 folds for each of 1 candidates, totalling 3 fits\n"
     ]
    },
    {
     "name": "stderr",
     "output_type": "stream",
     "text": [
      "[Parallel(n_jobs=4)]: Using backend LokyBackend with 4 concurrent workers.\n",
      "[Parallel(n_jobs=4)]: Done   3 out of   3 | elapsed:   12.6s finished\n"
     ]
    },
    {
     "name": "stdout",
     "output_type": "stream",
     "text": [
      "XGBoost Rolling 10 days \n",
      "\n",
      "Score on Train Set: 0.8366442861821625\n",
      "Best Parameters: {'xgc__eval_metric': 'auc', 'xgc__objective': 'binary:logistic', 'xgc__scale_pos_weight': 19, 'xgc__seed': 42}\n",
      "Score on Test Set: 0.8345168014626676\n",
      "                    Predicted WNV absent  Predicted WNV present\n",
      "Actual WNV absent                   1837                    652\n",
      "Actual WNV present                    33                    105 \n",
      "\n",
      "\n",
      "Fitting 3 folds for each of 1 candidates, totalling 3 fits\n"
     ]
    },
    {
     "name": "stderr",
     "output_type": "stream",
     "text": [
      "[Parallel(n_jobs=4)]: Using backend LokyBackend with 4 concurrent workers.\n",
      "[Parallel(n_jobs=4)]: Done   3 out of   3 | elapsed:   14.0s finished\n"
     ]
    },
    {
     "name": "stdout",
     "output_type": "stream",
     "text": [
      "XGBoost Rolling 14 days \n",
      "\n",
      "Score on Train Set: 0.8360316049206209\n",
      "Best Parameters: {'xgc__eval_metric': 'auc', 'xgc__objective': 'binary:logistic', 'xgc__scale_pos_weight': 19, 'xgc__seed': 42}\n",
      "Score on Test Set: 0.8331440948870683\n",
      "                    Predicted WNV absent  Predicted WNV present\n",
      "Actual WNV absent                   1858                    631\n",
      "Actual WNV present                    35                    103 \n",
      "\n",
      "\n",
      "Fitting 3 folds for each of 1 candidates, totalling 3 fits\n"
     ]
    },
    {
     "name": "stderr",
     "output_type": "stream",
     "text": [
      "[Parallel(n_jobs=4)]: Using backend LokyBackend with 4 concurrent workers.\n",
      "[Parallel(n_jobs=4)]: Done   3 out of   3 | elapsed:   12.1s finished\n"
     ]
    },
    {
     "name": "stdout",
     "output_type": "stream",
     "text": [
      "XGBoost Rolling 18 days \n",
      "\n",
      "Score on Train Set: 0.8349246732081056\n",
      "Best Parameters: {'xgc__eval_metric': 'auc', 'xgc__objective': 'binary:logistic', 'xgc__scale_pos_weight': 19, 'xgc__seed': 42}\n",
      "Score on Test Set: 0.8340771859951904\n",
      "                    Predicted WNV absent  Predicted WNV present\n",
      "Actual WNV absent                   1827                    662\n",
      "Actual WNV present                    33                    105 \n",
      "\n",
      "\n"
     ]
    }
   ],
   "source": [
    "model_making(df_dict, None, 'xgc', model_no_tuning, param_no_tuning)\n"
   ]
  },
  {
   "cell_type": "markdown",
   "metadata": {},
   "source": [
    "# GridSearching for parameter tuning"
   ]
  },
  {
   "cell_type": "code",
   "execution_count": 14,
   "metadata": {
    "ExecuteTime": {
     "end_time": "2019-11-08T01:29:35.278598Z",
     "start_time": "2019-11-08T01:29:35.275684Z"
    }
   },
   "outputs": [],
   "source": [
    "# defining dictionary to store gridsearched models\n",
    "\n",
    "model_dict = {}\n"
   ]
  },
  {
   "cell_type": "code",
   "execution_count": 15,
   "metadata": {},
   "outputs": [
    {
     "name": "stdout",
     "output_type": "stream",
     "text": [
      "Fitting 3 folds for each of 10 candidates, totalling 30 fits\n"
     ]
    },
    {
     "name": "stderr",
     "output_type": "stream",
     "text": [
      "[Parallel(n_jobs=4)]: Using backend LokyBackend with 4 concurrent workers.\n",
      "[Parallel(n_jobs=4)]: Done  30 out of  30 | elapsed:   26.6s finished\n"
     ]
    },
    {
     "name": "stdout",
     "output_type": "stream",
     "text": [
      "Logistic Regression Rolling 10 days Standard Scaler \n",
      "\n",
      "Score on Train Set: 0.789833331934709\n",
      "Best Parameters: {'lr__C': 1.0, 'lr__class_weight': 'balanced', 'lr__penalty': 'l1', 'lr__solver': 'liblinear'}\n",
      "Score on Test Set: 0.7876133247157057\n",
      "                    Predicted WNV absent  Predicted WNV present\n",
      "Actual WNV absent                   1739                    750\n",
      "Actual WNV present                    35                    103 \n",
      "\n",
      "\n",
      "Fitting 3 folds for each of 10 candidates, totalling 30 fits\n"
     ]
    },
    {
     "name": "stderr",
     "output_type": "stream",
     "text": [
      "[Parallel(n_jobs=4)]: Using backend LokyBackend with 4 concurrent workers.\n",
      "[Parallel(n_jobs=4)]: Done  30 out of  30 | elapsed:   21.2s finished\n"
     ]
    },
    {
     "name": "stdout",
     "output_type": "stream",
     "text": [
      "Logistic Regression Rolling 14 days Standard Scaler \n",
      "\n",
      "Score on Train Set: 0.7852972229339387\n",
      "Best Parameters: {'lr__C': 1.0, 'lr__class_weight': 'balanced', 'lr__penalty': 'l1', 'lr__solver': 'liblinear'}\n",
      "Score on Test Set: 0.7876540837656704\n",
      "                    Predicted WNV absent  Predicted WNV present\n",
      "Actual WNV absent                   1714                    775\n",
      "Actual WNV present                    35                    103 \n",
      "\n",
      "\n",
      "Fitting 3 folds for each of 10 candidates, totalling 30 fits\n"
     ]
    },
    {
     "name": "stderr",
     "output_type": "stream",
     "text": [
      "[Parallel(n_jobs=4)]: Using backend LokyBackend with 4 concurrent workers.\n",
      "[Parallel(n_jobs=4)]: Done  30 out of  30 | elapsed:   21.6s finished\n"
     ]
    },
    {
     "name": "stdout",
     "output_type": "stream",
     "text": [
      "Logistic Regression Rolling 18 days Standard Scaler \n",
      "\n",
      "Score on Train Set: 0.7895206325910963\n",
      "Best Parameters: {'lr__C': 1.0, 'lr__class_weight': 'balanced', 'lr__penalty': 'l1', 'lr__solver': 'liblinear'}\n",
      "Score on Test Set: 0.7927635218148259\n",
      "                    Predicted WNV absent  Predicted WNV present\n",
      "Actual WNV absent                   1750                    739\n",
      "Actual WNV present                    38                    100 \n",
      "\n",
      "\n"
     ]
    }
   ],
   "source": [
    "model_making(df_dict, 'ss', 'lr', model_dict, param_dict)"
   ]
  },
  {
   "cell_type": "code",
   "execution_count": 16,
   "metadata": {},
   "outputs": [
    {
     "name": "stdout",
     "output_type": "stream",
     "text": [
      "Fitting 3 folds for each of 120 candidates, totalling 360 fits\n"
     ]
    },
    {
     "name": "stderr",
     "output_type": "stream",
     "text": [
      "[Parallel(n_jobs=4)]: Using backend LokyBackend with 4 concurrent workers.\n",
      "[Parallel(n_jobs=4)]: Done  60 tasks      | elapsed:    1.4s\n",
      "[Parallel(n_jobs=4)]: Done 360 out of 360 | elapsed:   10.7s finished\n"
     ]
    },
    {
     "name": "stdout",
     "output_type": "stream",
     "text": [
      "Decision Tree Rolling 10 days \n",
      "\n",
      "Score on Train Set: 0.7925267855247728\n",
      "Best Parameters: {'dt__class_weight': 'balanced', 'dt__max_depth': 5, 'dt__min_samples_leaf': 2, 'dt__min_samples_split': 20}\n",
      "Score on Test Set: 0.7932642758572501\n",
      "                    Predicted WNV absent  Predicted WNV present\n",
      "Actual WNV absent                   1635                    854\n",
      "Actual WNV present                    21                    117 \n",
      "\n",
      "\n",
      "Fitting 3 folds for each of 120 candidates, totalling 360 fits\n"
     ]
    },
    {
     "name": "stderr",
     "output_type": "stream",
     "text": [
      "[Parallel(n_jobs=4)]: Using backend LokyBackend with 4 concurrent workers.\n",
      "[Parallel(n_jobs=4)]: Done  76 tasks      | elapsed:    1.6s\n",
      "[Parallel(n_jobs=4)]: Done 360 out of 360 | elapsed:   13.6s finished\n"
     ]
    },
    {
     "name": "stdout",
     "output_type": "stream",
     "text": [
      "Decision Tree Rolling 14 days \n",
      "\n",
      "Score on Train Set: 0.7726115078545764\n",
      "Best Parameters: {'dt__class_weight': 'balanced', 'dt__max_depth': 5, 'dt__min_samples_leaf': 2, 'dt__min_samples_split': 5}\n",
      "Score on Test Set: 0.7935539562480712\n",
      "                    Predicted WNV absent  Predicted WNV present\n",
      "Actual WNV absent                   1663                    826\n",
      "Actual WNV present                    24                    114 \n",
      "\n",
      "\n",
      "Fitting 3 folds for each of 120 candidates, totalling 360 fits\n"
     ]
    },
    {
     "name": "stderr",
     "output_type": "stream",
     "text": [
      "[Parallel(n_jobs=4)]: Using backend LokyBackend with 4 concurrent workers.\n",
      "[Parallel(n_jobs=4)]: Done  76 tasks      | elapsed:    1.6s\n",
      "[Parallel(n_jobs=4)]: Done 360 out of 360 | elapsed:   10.6s finished\n"
     ]
    },
    {
     "name": "stdout",
     "output_type": "stream",
     "text": [
      "Decision Tree Rolling 18 days \n",
      "\n",
      "Score on Train Set: 0.7726351778254762\n",
      "Best Parameters: {'dt__class_weight': 'balanced', 'dt__max_depth': 5, 'dt__min_samples_leaf': 6, 'dt__min_samples_split': 15}\n",
      "Score on Test Set: 0.7954012146196889\n",
      "                    Predicted WNV absent  Predicted WNV present\n",
      "Actual WNV absent                   1584                    905\n",
      "Actual WNV present                    24                    114 \n",
      "\n",
      "\n"
     ]
    }
   ],
   "source": [
    "model_making(df_dict, None, 'dt', model_dict, param_dict)"
   ]
  },
  {
   "cell_type": "code",
   "execution_count": 18,
   "metadata": {
    "scrolled": false
   },
   "outputs": [
    {
     "name": "stdout",
     "output_type": "stream",
     "text": [
      "Fitting 3 folds for each of 216 candidates, totalling 648 fits\n"
     ]
    },
    {
     "name": "stderr",
     "output_type": "stream",
     "text": [
      "[Parallel(n_jobs=4)]: Using backend LokyBackend with 4 concurrent workers.\n",
      "[Parallel(n_jobs=4)]: Done  62 tasks      | elapsed:    8.7s\n",
      "[Parallel(n_jobs=4)]: Done 212 tasks      | elapsed:   37.7s\n",
      "[Parallel(n_jobs=4)]: Done 462 tasks      | elapsed:  2.1min\n",
      "[Parallel(n_jobs=4)]: Done 648 out of 648 | elapsed:  3.8min finished\n"
     ]
    },
    {
     "name": "stdout",
     "output_type": "stream",
     "text": [
      "Extra Trees Rolling 10 days \n",
      "\n",
      "Score on Train Set: 0.8362436703876401\n",
      "Best Parameters: {'et__class_weight': 'balanced', 'et__max_depth': 20, 'et__min_samples_leaf': 5, 'et__n_estimators': 200}\n",
      "Score on Test Set: 0.8323492934127552\n",
      "                    Predicted WNV absent  Predicted WNV present\n",
      "Actual WNV absent                   1967                    522\n",
      "Actual WNV present                    48                     90 \n",
      "\n",
      "\n",
      "Fitting 3 folds for each of 216 candidates, totalling 648 fits\n"
     ]
    },
    {
     "name": "stderr",
     "output_type": "stream",
     "text": [
      "[Parallel(n_jobs=4)]: Using backend LokyBackend with 4 concurrent workers.\n",
      "[Parallel(n_jobs=4)]: Done  50 tasks      | elapsed:   20.0s\n",
      "[Parallel(n_jobs=4)]: Done 200 tasks      | elapsed:  1.0min\n",
      "[Parallel(n_jobs=4)]: Done 450 tasks      | elapsed:  2.6min\n",
      "[Parallel(n_jobs=4)]: Done 648 out of 648 | elapsed:  3.8min finished\n"
     ]
    },
    {
     "name": "stdout",
     "output_type": "stream",
     "text": [
      "Extra Trees Rolling 14 days \n",
      "\n",
      "Score on Train Set: 0.8380628470776021\n",
      "Best Parameters: {'et__class_weight': 'balanced_subsample', 'et__max_depth': 20, 'et__min_samples_leaf': 5, 'et__n_estimators': 150}\n",
      "Score on Test Set: 0.8323813183805847\n",
      "                    Predicted WNV absent  Predicted WNV present\n",
      "Actual WNV absent                   1964                    525\n",
      "Actual WNV present                    48                     90 \n",
      "\n",
      "\n",
      "Fitting 3 folds for each of 216 candidates, totalling 648 fits\n"
     ]
    },
    {
     "name": "stderr",
     "output_type": "stream",
     "text": [
      "[Parallel(n_jobs=4)]: Using backend LokyBackend with 4 concurrent workers.\n",
      "[Parallel(n_jobs=4)]: Done  62 tasks      | elapsed:    9.7s\n",
      "[Parallel(n_jobs=4)]: Done 212 tasks      | elapsed:   48.7s\n",
      "[Parallel(n_jobs=4)]: Done 462 tasks      | elapsed:  2.3min\n",
      "[Parallel(n_jobs=4)]: Done 648 out of 648 | elapsed:  3.7min finished\n"
     ]
    },
    {
     "name": "stdout",
     "output_type": "stream",
     "text": [
      "Extra Trees Rolling 18 days \n",
      "\n",
      "Score on Train Set: 0.8371561658824612\n",
      "Best Parameters: {'et__class_weight': 'balanced', 'et__max_depth': 20, 'et__min_samples_leaf': 5, 'et__n_estimators': 150}\n",
      "Score on Test Set: 0.8322357503449962\n",
      "                    Predicted WNV absent  Predicted WNV present\n",
      "Actual WNV absent                   1968                    521\n",
      "Actual WNV present                    47                     91 \n",
      "\n",
      "\n"
     ]
    }
   ],
   "source": [
    "model_making(df_dict, None, 'et', model_dict, param_dict)"
   ]
  },
  {
   "cell_type": "code",
   "execution_count": 19,
   "metadata": {
    "ExecuteTime": {
     "end_time": "2019-11-08T01:34:15.639343Z",
     "start_time": "2019-11-08T01:29:45.621195Z"
    },
    "scrolled": true
   },
   "outputs": [
    {
     "name": "stdout",
     "output_type": "stream",
     "text": [
      "Fitting 3 folds for each of 180 candidates, totalling 540 fits\n"
     ]
    },
    {
     "name": "stderr",
     "output_type": "stream",
     "text": [
      "[Parallel(n_jobs=4)]: Using backend LokyBackend with 4 concurrent workers.\n",
      "[Parallel(n_jobs=4)]: Done  42 tasks      | elapsed:   16.0s\n",
      "[Parallel(n_jobs=4)]: Done 192 tasks      | elapsed:  1.2min\n",
      "[Parallel(n_jobs=4)]: Done 442 tasks      | elapsed:  3.3min\n",
      "[Parallel(n_jobs=4)]: Done 540 out of 540 | elapsed:  4.5min finished\n"
     ]
    },
    {
     "name": "stdout",
     "output_type": "stream",
     "text": [
      "Random Forest Rolling 10 days \n",
      "\n",
      "Score on Train Set: 0.8425526854431293\n",
      "Best Parameters: {'rf__class_weight': 'balanced_subsample', 'rf__max_depth': 10, 'rf__min_samples_leaf': 5, 'rf__n_estimators': 150}\n",
      "Score on Test Set: 0.8298207766345835\n",
      "                    Predicted WNV absent  Predicted WNV present\n",
      "Actual WNV absent                   1928                    561\n",
      "Actual WNV present                    41                     97 \n",
      "\n",
      "\n",
      "Fitting 3 folds for each of 180 candidates, totalling 540 fits\n"
     ]
    },
    {
     "name": "stderr",
     "output_type": "stream",
     "text": [
      "[Parallel(n_jobs=4)]: Using backend LokyBackend with 4 concurrent workers.\n",
      "[Parallel(n_jobs=4)]: Done  42 tasks      | elapsed:   10.7s\n",
      "[Parallel(n_jobs=4)]: Done 192 tasks      | elapsed:  1.5min\n",
      "[Parallel(n_jobs=4)]: Done 442 tasks      | elapsed:  3.6min\n",
      "[Parallel(n_jobs=4)]: Done 540 out of 540 | elapsed:  4.7min finished\n"
     ]
    },
    {
     "name": "stdout",
     "output_type": "stream",
     "text": [
      "Random Forest Rolling 14 days \n",
      "\n",
      "Score on Train Set: 0.8421014875606406\n",
      "Best Parameters: {'rf__class_weight': 'balanced_subsample', 'rf__max_depth': 10, 'rf__min_samples_leaf': 5, 'rf__n_estimators': 50}\n",
      "Score on Test Set: 0.8280040875504393\n",
      "                    Predicted WNV absent  Predicted WNV present\n",
      "Actual WNV absent                   1967                    522\n",
      "Actual WNV present                    44                     94 \n",
      "\n",
      "\n",
      "Fitting 3 folds for each of 180 candidates, totalling 540 fits\n"
     ]
    },
    {
     "name": "stderr",
     "output_type": "stream",
     "text": [
      "[Parallel(n_jobs=4)]: Using backend LokyBackend with 4 concurrent workers.\n",
      "[Parallel(n_jobs=4)]: Done  42 tasks      | elapsed:   16.0s\n",
      "[Parallel(n_jobs=4)]: Done 192 tasks      | elapsed:  1.3min\n",
      "[Parallel(n_jobs=4)]: Done 442 tasks      | elapsed:  3.1min\n",
      "[Parallel(n_jobs=4)]: Done 540 out of 540 | elapsed:  4.0min finished\n"
     ]
    },
    {
     "name": "stdout",
     "output_type": "stream",
     "text": [
      "Random Forest Rolling 18 days \n",
      "\n",
      "Score on Train Set: 0.8432355223884089\n",
      "Best Parameters: {'rf__class_weight': 'balanced_subsample', 'rf__max_depth': 15, 'rf__min_samples_leaf': 5, 'rf__n_estimators': 150}\n",
      "Score on Test Set: 0.8298091311917364\n",
      "                    Predicted WNV absent  Predicted WNV present\n",
      "Actual WNV absent                   2049                    440\n",
      "Actual WNV present                    54                     84 \n",
      "\n",
      "\n"
     ]
    }
   ],
   "source": [
    "model_making(df_dict, None, 'rf', model_dict, param_dict)"
   ]
  },
  {
   "cell_type": "code",
   "execution_count": 20,
   "metadata": {
    "ExecuteTime": {
     "end_time": "2019-11-07T23:05:41.133058Z",
     "start_time": "2019-11-07T22:50:34.844797Z"
    }
   },
   "outputs": [
    {
     "name": "stdout",
     "output_type": "stream",
     "text": [
      "Fitting 3 folds for each of 27 candidates, totalling 81 fits\n"
     ]
    },
    {
     "name": "stderr",
     "output_type": "stream",
     "text": [
      "[Parallel(n_jobs=4)]: Using backend LokyBackend with 4 concurrent workers.\n",
      "[Parallel(n_jobs=4)]: Done  42 tasks      | elapsed:  6.2min\n",
      "[Parallel(n_jobs=4)]: Done  81 out of  81 | elapsed: 15.0min finished\n"
     ]
    },
    {
     "name": "stdout",
     "output_type": "stream",
     "text": [
      "XGBoost Rolling 10 days \n",
      "\n",
      "Score on Train Set: 0.8372961169058154\n",
      "Best Parameters: {'xgc__colsample_bytree': 0.5, 'xgc__eval_metric': 'auc', 'xgc__gamma': 3, 'xgc__learning_rate': 0.1, 'xgc__max_depth': 3, 'xgc__n_estimators': 500, 'xgc__reg_alpha': 0, 'xgc__reg_lambda': 5, 'xgc__scale_pos_weight': 19, 'xgc__subsample': 0.5}\n",
      "Score on Test Set: 0.8237709690755264\n",
      "                    Predicted WNV absent  Predicted WNV present\n",
      "Actual WNV absent                   2010                    479\n",
      "Actual WNV present                    57                     81 \n",
      "\n",
      "\n",
      "Fitting 3 folds for each of 27 candidates, totalling 81 fits\n"
     ]
    },
    {
     "name": "stderr",
     "output_type": "stream",
     "text": [
      "[Parallel(n_jobs=4)]: Using backend LokyBackend with 4 concurrent workers.\n",
      "[Parallel(n_jobs=4)]: Done  42 tasks      | elapsed:  5.3min\n",
      "[Parallel(n_jobs=4)]: Done  81 out of  81 | elapsed:  7.5min finished\n"
     ]
    },
    {
     "name": "stdout",
     "output_type": "stream",
     "text": [
      "XGBoost Rolling 14 days \n",
      "\n",
      "Score on Train Set: 0.8363227336818501\n",
      "Best Parameters: {'xgc__colsample_bytree': 0.5, 'xgc__eval_metric': 'auc', 'xgc__gamma': 3, 'xgc__learning_rate': 0.1, 'xgc__max_depth': 3, 'xgc__n_estimators': 500, 'xgc__reg_alpha': 1.5, 'xgc__reg_lambda': 2, 'xgc__scale_pos_weight': 19, 'xgc__subsample': 0.5}\n",
      "Score on Test Set: 0.8279182024094421\n",
      "                    Predicted WNV absent  Predicted WNV present\n",
      "Actual WNV absent                   2051                    438\n",
      "Actual WNV present                    53                     85 \n",
      "\n",
      "\n",
      "Fitting 3 folds for each of 27 candidates, totalling 81 fits\n"
     ]
    },
    {
     "name": "stderr",
     "output_type": "stream",
     "text": [
      "[Parallel(n_jobs=4)]: Using backend LokyBackend with 4 concurrent workers.\n",
      "[Parallel(n_jobs=4)]: Done  42 tasks      | elapsed:  2.3min\n",
      "[Parallel(n_jobs=4)]: Done  81 out of  81 | elapsed:  4.4min finished\n"
     ]
    },
    {
     "name": "stdout",
     "output_type": "stream",
     "text": [
      "XGBoost Rolling 18 days \n",
      "\n",
      "Score on Train Set: 0.8372530377396549\n",
      "Best Parameters: {'xgc__colsample_bytree': 0.5, 'xgc__eval_metric': 'auc', 'xgc__gamma': 3, 'xgc__learning_rate': 0.1, 'xgc__max_depth': 3, 'xgc__n_estimators': 500, 'xgc__reg_alpha': 1.5, 'xgc__reg_lambda': 2, 'xgc__scale_pos_weight': 19, 'xgc__subsample': 0.5}\n",
      "Score on Test Set: 0.823460909159723\n",
      "                    Predicted WNV absent  Predicted WNV present\n",
      "Actual WNV absent                   2042                    447\n",
      "Actual WNV present                    56                     82 \n",
      "\n",
      "\n"
     ]
    }
   ],
   "source": [
    "model_making(df_dict, None, 'xgc', model_no_tuning, param_dict)"
   ]
  },
  {
   "cell_type": "markdown",
   "metadata": {},
   "source": [
    "# Evaluating our models"
   ]
  },
  {
   "cell_type": "code",
   "execution_count": 21,
   "metadata": {
    "ExecuteTime": {
     "end_time": "2019-11-08T01:28:48.781014Z",
     "start_time": "2019-11-08T01:28:48.755663Z"
    }
   },
   "outputs": [],
   "source": [
    "# Functions to plot prediction probability and ROC AUC curve\n",
    "\n",
    "# Defining function to count true positive rate\n",
    "\n",
    "def TPR(df, true_col, pred_prob_col, threshold):\n",
    "    true_positive = df[(df[true_col] == 1) & (df[pred_prob_col] >= threshold)].shape[0]\n",
    "    false_negative = df[(df[true_col] == 1) & (df[pred_prob_col] < threshold)].shape[0]\n",
    "    return true_positive / (true_positive + false_negative)\n",
    "\n",
    "# Defining function to count false positive rate\n",
    "def FPR(df, true_col, pred_prob_col, threshold):\n",
    "    true_negative = df[(df[true_col] == 0) & (df[pred_prob_col] <= threshold)].shape[0]\n",
    "    false_positive = df[(df[true_col] == 0) & (df[pred_prob_col] > threshold)].shape[0]\n",
    "    return 1 - (true_negative / (true_negative + false_positive))\n",
    "\n",
    "# Defining function to plot prediction probability and ROC AUC curve for selected models\n",
    "def subplot_prob_dist(model_dict, list_of_models):\n",
    "    nrows = int(np.ceil(len(list_of_models)))\n",
    "    fig, ax = plt.subplots(nrows = nrows, ncols = 2, figsize = (15, nrows * 5))\n",
    "    plt.subplots_adjust(wspace = 0.4, hspace = 0.4)\n",
    "    ax = ax.flatten()\n",
    "\n",
    "    thresholds = np.linspace(0, 1, 200)\n",
    "\n",
    "    for i, model_name in enumerate(list_of_models):\n",
    "        pred_df = model_dict[model_name]['cv_test_pred_df']\n",
    "        model_desc = model_dict[model_name]['name']\n",
    "        \n",
    "        roc_auc = roc_auc_score(pred_df['True_Values'], pred_df['Pred_Probs'])\n",
    "        \n",
    "        try:\n",
    "            ax[(i * 2)].hist(pred_df[pred_df['True_Values'] == 0]['Pred_Probs']*100, density = True, bins = 25, color = 'b', \\\n",
    "                             alpha = 0.6, label = 'Outcome = 0')\n",
    "            ax[(i * 2)].hist(pred_df[pred_df['True_Values'] == 1]['Pred_Probs']*100, density = True ,bins = 25, color = 'y', \\\n",
    "                                 alpha = 0.6, label = 'Outcome = 1')\n",
    "            ax[(i * 2)].set_title(f'{model_desc} \\n Distribution of P(Outcome = 0)')\n",
    "            ax[(i * 2)].set_ylabel('Distribution')\n",
    "            ax[(i * 2)].set_xlabel('Predicted Probability that Outcome = 1')\n",
    "            ax[(i * 2)].legend(loc = 'upper center')\n",
    "        except:\n",
    "            pass\n",
    "        \n",
    "        \n",
    "        try:\n",
    "            tpr_values = [TPR(pred_df, 'True_Values', 'Pred_Probs', prob) for prob in thresholds]\n",
    "            fpr_values = [FPR(pred_df, 'True_Values', 'Pred_Probs', prob) for prob in thresholds]\n",
    " \n",
    "            ax[(i * 2 + 1)].plot(fpr_values, tpr_values, label = 'ROC Curve', color = 'c')\n",
    "            ax[(i * 2 + 1)].plot((0, 0), (0, tpr_values[len(tpr_values) - 1]), color = 'c')\n",
    "            ax[(i * 2 + 1)].plot((fpr_values[0], 1), (1 , 1), color = 'c')\n",
    "            ax[(i * 2 + 1)].plot(thresholds, thresholds, label = 'baseline', linestyle = '--', color = 'y')\n",
    "            ax[(i * 2 + 1)].set_title(f'{model_desc}  \\n ROC AUC = {roc_auc:2f}')\n",
    "            ax[(i * 2 + 1)].set_ylabel('Sensitivity')\n",
    "            ax[(i * 2 + 1)].set_xlabel('1 - Specificity')\n",
    "            ax[(i * 2 + 1)].legend(loc = 'lower right')\n",
    "            \n",
    "            \n",
    "        except:\n",
    "            pass\n"
   ]
  },
  {
   "cell_type": "code",
   "execution_count": 22,
   "metadata": {},
   "outputs": [
    {
     "data": {
      "image/png": "[encoded data removed]",
      "text/plain": [
       "<Figure size 1080x360 with 2 Axes>"
      ]
     },
     "metadata": {
      "needs_background": "light"
     },
     "output_type": "display_data"
    }
   ],
   "source": [
    "subplot_prob_dist(model_dict, ['lr_1'])"
   ]
  },
  {
   "cell_type": "code",
   "execution_count": 23,
   "metadata": {},
   "outputs": [],
   "source": [
    "# plot feature importances\n",
    "def plot_feat_imp(model_dict, model_classifier, model_number):\n",
    "    model_name = '_'.join([model_classifier, str(model_number)])\n",
    "    feat_imp = pd.DataFrame(model_dict[model_name]['model'].best_estimator_.steps[0][1].feature_importances_,\n",
    "                            index = X_train[model_number].columns).sort_values(0 ,ascending=False).head(20)\n",
    "    plt.figure(figsize = (10, 7))\n",
    "    sns.barplot(x = feat_imp[0], y = feat_imp.index, color = 'skyblue')\n",
    "    plt.title('Feature importance scores', fontsize=14)\n",
    "    plt.xlabel('')\n",
    "    plt.yticks(fontsize = 12)\n",
    "    plt.tight_layout()"
   ]
  },
  {
   "cell_type": "code",
   "execution_count": 24,
   "metadata": {},
   "outputs": [
    {
     "data": {
      "image/png": "[encoded data removed]",
      "text/plain": [
       "<Figure size 720x504 with 1 Axes>"
      ]
     },
     "metadata": {
      "needs_background": "light"
     },
     "output_type": "display_data"
    }
   ],
   "source": [
    "plot_feat_imp(model_dict, 'et', 1)"
   ]
  },
  {
   "cell_type": "markdown",
   "metadata": {},
   "source": [
    "# Cost-Benefit Analysis"
   ]
  },
  {
   "cell_type": "markdown",
   "metadata": {},
   "source": [
    "## Cost\n",
    "The Chicago Department of Public Health (CDPH) conducts mosquito spraying as part of their measure to reduce the occurrence of WNV. The spraying is conducted from dusk to around midnight from ultra low volumn (ULV) sprayer trucks, using the chemical Zenivex™ E4 ([City of Chicago, 2019](https://www.chicago.gov/city/en/depts/cdph/provdrs/healthy_communities/news/2019/august/city-to-spray-insecticide-thursday-to-kill-mosquitoes.html)). This is a 4% solution of etofenprox, sprayed at 4.5 - 9 ounces per minute, at a vehicle speed of 10 - 15 mph ([Central Massachussettes Mosquito Control Project](https://www.cmmcp.org/pesticide-information/pages/zenivex-e4-etofenprox)). Assuming each truck has an area of effect of about 3 m to each side of the truck, the overall spray area is approximately **0.6 km<sup>2</sup>** per truck.\n",
    "\n",
    "The cost of Zenivex E4 is about \\$80 USD per gallon ([North Dakota Department of Health, 2013](http://www.gfmosquito.com/wp-content/uploads/2013/06/2013-North-Dakota-Bid-Tabulation.pdf)). Given the current rate of spraying and assuming a total spray duration of 5 hours, the cost of pesticides for <i>each sprayer truck</i> is <b>\\\\$843.76 - \\$1687.50 USD</b>. \n",
    "\n",
    "Given that the total area of Chicago is 606.1 km<sup>2</sup>, it would take about 1000 trucks at the same time to cover the entire area. \n",
    "\n",
    "## Benefit\n",
    "Benefits from mosquito spraying would include increased quality of life from fewer people falling sick and dying, increased workplace productivity from fewer people falling ill and going on medical leave, as well as savings in hospital expenses from treating WNV patients. Of these, only the latter two are measurable.\n",
    "\n",
    "About 1 in 5 people infected with WNV develop West Nile fever with other symptoms such as headache, body aches, joint pains, vomiting, etc. Recovery from West Nile fever takes from a few days to several weeks, and prolonged fatigue is common ([Peterson, 2019](https://www.uptodate.com/contents/west-nile-virus-infection-beyond-the-basics)). \n",
    "\n",
    "About 1 in 150 people infected develop severe neuroinvasive diseases such as encephalitis or meningitis, in which the virus travels through the blood and infects the brain and spinal cord. Recovery is prolonged and less than 40% of patients with the severe diseases recover after one year ([Peterson, 2019](https://www.uptodate.com/contents/west-nile-virus-infection-beyond-the-basics)).\n",
    "\n",
    "Given that the median household income in Chicago was \\\\$55,295 (as of 2017; [Data USA](https://datausa.io/profile/geo/chicago-il/)), one can estimate the amount of losses the city will face from an incapacitated workforce. In 2017, there were 90 WNV cases, including 8 deaths ([CBS Chicago, 2019](https://chicago.cbslocal.com/2018/08/29/west-nile-virus-death-reported-in-illinois/)). This means that approximately 18 people developed West Nile fever. Assuming all were working adults and each took two weeks off work to recover, this would have resulted in a total income loss of \\\\$19,353. On average, each WNV patient spends approximately \\\\$25,000 in the hospital. Therefore the total monetary loss caused by WNV in 2017 is approximately \\\\$488,176.\n",
    "\n",
    "## Effectiveness of spraying efforts thus far\n",
    "Based on the exploratory data analysis conducted earlier, there was a lack of evidence to support the claim that mosquito spraying had any effect on reducing the number of mosquitos. It was also revealed during earlier EDA that spraying was only done in 2011 and 2013, and mostly in September. As this is near the end of summer, breeding conditions were already becoming less favourable for mosquitos, therefore it would be difficult to discern the effects of spraying from the natural decline in mosquito populations. Further examinations of spraying efforts in 2013 August also did not reveal any noticable decrease in WNV occurrences. \n",
    "\n",
    "## Conclusions\n",
    "From the graph below, it can be seen that the money saved from reducing WNV cases would at most fund about 300 - 500 sprays. However, as the current datasets do not substantially point to a significant impact from spraying, more evidence (from a better designed spraying regime) are needed for a more concrete recommendation. For example, spraying efforts could be concentrated at the beginning of August so that there would be enough time to observe if mosquito numbers decline, in the relative absence of other confounding factors (such as temperature). "
   ]
  },
  {
   "cell_type": "code",
   "execution_count": 25,
   "metadata": {
    "ExecuteTime": {
     "end_time": "2019-11-07T13:19:04.368349Z",
     "start_time": "2019-11-07T13:19:03.814250Z"
    }
   },
   "outputs": [
    {
     "data": {
      "image/png": "[encoded data removed]",
      "text/plain": [
       "<Figure size 576x360 with 1 Axes>"
      ]
     },
     "metadata": {
      "needs_background": "light"
     },
     "output_type": "display_data"
    }
   ],
   "source": [
    "# max/optimal level of pesticide coverage\n",
    "# spraying frequency of twice a month (to cover the mosquito life cycle)\n",
    "# 1000 trucks at a time (to cover the whole Chicago)\n",
    "max_frequency = 25 * 1000\n",
    "\n",
    "plt.figure(figsize=(8,5))\n",
    "plt.plot(np.arange(1, max_frequency),\n",
    "         np.arange(1, max_frequency) * 1687.5/1000, label = 'upper cost estimate limit')\n",
    "plt.plot(np.arange(1, max_frequency),\n",
    "         np.arange(1, max_frequency) * 843.75/1000, label = 'lower cost estimate limit')\n",
    "plt.axhline(488_176/1000, color='r', linestyle=':', label = 'total loss from WNV (2017)')\n",
    "plt.title('cost vs spray frequency', fontsize=16)\n",
    "plt.xlabel('spray frequency', fontsize=14)\n",
    "plt.ylabel('cost (in 1000s)', fontsize=14)\n",
    "plt.ylim(0,2000)\n",
    "plt.xlim(0,1000)\n",
    "plt.legend()\n",
    "plt.tight_layout()\n",
    "plt.savefig('cost_benefit')"
   ]
  },
  {
   "cell_type": "markdown",
   "metadata": {},
   "source": [
    "# Conclusion and Recommendations"
   ]
  },
  {
   "cell_type": "markdown",
   "metadata": {},
   "source": [
    "Using XGBoost (my best performing model), I achieved an ROC_AUC of **0.834** and the following confusion matrix:\n",
    "\n",
    "||predicted WNV absent|predicted WNV present|\n",
    "|---|---|---|\n",
    "|actual WNV absent|2031|458|\n",
    "|actual WNV present|50|88|\n",
    "\n",
    "Using the model, I found that WNV is more prevalent under certain conditions. **Week of year** was the top predictor by far for My model, followed by day of year, 18-days rolling sum of daylight hours, <i>Culex restuans</i>, and 18-days rolling mean of average temperature. This means that WNV is most likely to occur during certain weeks of the year (in August, as shown in the figure above), and therefore spray efforts should be concentrated during this period. Location was not a strong predictor in my model, suggesting that WNV clusters may be transient, occurring where best conditions emerge. \n",
    "\n",
    "After conducting a cost-benefit analysis, I found that the money saved from reducing WNV cases would at most fund about 300 - 500 sprays. However, as the current datasets do not substantially point to a significant impact from spraying, more evidence (from a better designed spraying regime) are needed for a more concrete recommendation. For example, spraying efforts could be concentrated at the beginning of August so that there would be enough time to observe if mosquito numbers decline, in the relative absence of other confounding factors (such as temperature). "
   ]
  }
 ],
 "metadata": {
  "kernelspec": {
   "display_name": "Python 3",
   "language": "python",
   "name": "python3"
  },
  "language_info": {
   "codemirror_mode": {
    "name": "ipython",
    "version": 3
   },
   "file_extension": ".py",
   "mimetype": "text/x-python",
   "name": "python",
   "nbconvert_exporter": "python",
   "pygments_lexer": "ipython3",
   "version": "3.7.6"
  },
  "toc": {
   "base_numbering": 1,
   "nav_menu": {},
   "number_sections": true,
   "sideBar": true,
   "skip_h1_title": false,
   "title_cell": "Table of Contents",
   "title_sidebar": "Contents",
   "toc_cell": true,
   "toc_position": {},
   "toc_section_display": true,
   "toc_window_display": true
  },
  "varInspector": {
   "cols": {
    "lenName": 16,
    "lenType": 16,
    "lenVar": 40
   },
   "kernels_config": {
    "python": {
     "delete_cmd_postfix": "",
     "delete_cmd_prefix": "del ",
     "library": "var_list.py",
     "varRefreshCmd": "print(var_dic_list())"
    },
    "r": {
     "delete_cmd_postfix": ") ",
     "delete_cmd_prefix": "rm(",
     "library": "var_list.r",
     "varRefreshCmd": "cat(var_dic_list()) "
    }
   },
   "types_to_exclude": [
    "module",
    "function",
    "builtin_function_or_method",
    "instance",
    "_Feature"
   ],
   "window_display": false
  }
 },
 "nbformat": 4,
 "nbformat_minor": 2
}
